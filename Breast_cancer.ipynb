{
  "nbformat": 4,
  "nbformat_minor": 0,
  "metadata": {
    "colab": {
      "name": "Untitled0.ipynb",
      "provenance": []
    },
    "kernelspec": {
      "name": "python3",
      "display_name": "Python 3"
    },
    "language_info": {
      "name": "python"
    }
  },
  "cells": [
    {
      "cell_type": "markdown",
      "source": [
        "**Breast cancer detection with logistic Regression**"
      ],
      "metadata": {
        "id": "79M7SP0lvafV"
      }
    },
    {
      "cell_type": "code",
      "execution_count": null,
      "metadata": {
        "id": "_sNaFE3tubuW"
      },
      "outputs": [],
      "source": [
        "import numpy as np\n",
        "import sklearn.datasets"
      ]
    },
    {
      "cell_type": "code",
      "source": [
        "breast_cancer=sklearn.datasets.load_breast_cancer()\n",
        "print(breast_cancer)"
      ],
      "metadata": {
        "id": "rF7hBkV4wFvi"
      },
      "execution_count": null,
      "outputs": []
    },
    {
      "cell_type": "code",
      "source": [
        "X=breast_cancer.data\n",
        "Y=breast_cancer.target\n",
        "print(X)\n",
        "print(Y)"
      ],
      "metadata": {
        "id": "mMvcUji9xRpk"
      },
      "execution_count": null,
      "outputs": []
    },
    {
      "cell_type": "code",
      "source": [
        "print(X.shape,Y.shape)"
      ],
      "metadata": {
        "id": "PYHSFqovyJUG"
      },
      "execution_count": null,
      "outputs": []
    },
    {
      "cell_type": "code",
      "source": [
        "import pandas as pd\n",
        "data=pd.DataFrame(breast_cancer.data,columns=breast_cancer.feature_names)\n",
        "data['class']=breast_cancer.target\n",
        "data.head()"
      ],
      "metadata": {
        "id": "TNU5W9axydm8"
      },
      "execution_count": null,
      "outputs": []
    },
    {
      "cell_type": "code",
      "source": [
        "data.describe()\n",
        " ## gives all the statistical values like mean etc"
      ],
      "metadata": {
        "id": "9F4MUPTN050R"
      },
      "execution_count": null,
      "outputs": []
    },
    {
      "cell_type": "code",
      "source": [
        "print(breast_cancer.target_names[0])\n",
        "print(breast_cancer.target_names[1])\n",
        "print(breast_cancer.target_names)\n",
        "print(data['class'].value_counts())\n",
        "## benign = 1 & malignant = 0"
      ],
      "metadata": {
        "id": "xJT5AF8G1eNT"
      },
      "execution_count": null,
      "outputs": []
    },
    {
      "cell_type": "markdown",
      "source": [
        "Till now we have loaded the data and seperated as X-data,Y-lable of X and anlyzed the data using pandas frames.\n",
        "Now we split the data to train and test our model **bold teXt**"
      ],
      "metadata": {
        "id": "wdIOPBd836n-"
      }
    },
    {
      "cell_type": "code",
      "source": [
        "from sklearn.model_selection import train_test_split\n",
        "X_train,X_test,Y_train,Y_test=train_test_split(breast_cancer.data,breast_cancer.target)\n",
        "print(Y.shape,Y_train.shape,Y_test.shape)"
      ],
      "metadata": {
        "id": "75pk-xPT4e-p"
      },
      "execution_count": null,
      "outputs": []
    },
    {
      "cell_type": "code",
      "source": [
        "X_train,X_test,Y_train,Y_test=train_test_split(breast_cancer.data,breast_cancer.target,test_size=0.1)\n",
        "print(Y.shape,Y_train.shape,Y_test.shape)\n",
        "## we have taken 0.1 i.e 10% is enough to test we have to train more"
      ],
      "metadata": {
        "id": "Yf9z0m6b-_19"
      },
      "execution_count": null,
      "outputs": []
    },
    {
      "cell_type": "code",
      "source": [
        "print(\"Before stratisfy:\",Y.mean(),Y_train.mean(),Y_test.mean())\n",
        "X_train,X_test,Y_train,Y_test=train_test_split(breast_cancer.data,breast_cancer.target,test_size=0.1,stratify=Y) \n",
        "## we have to take care that the means of the y,y_train,y_test should be same \n",
        "## inorder to conclude the data is splited equal values of data \n",
        "## stratisfy=y do's the thing\n",
        "print(\"After stratisfy:\",Y.mean(),Y_train.mean(),Y_test.mean()) \n"
      ],
      "metadata": {
        "id": "LakabYqx_H9T"
      },
      "execution_count": null,
      "outputs": []
    },
    {
      "cell_type": "code",
      "source": [
        "X_train,X_test,Y_train,Y_test=train_test_split(breast_cancer.data,breast_cancer.target,test_size=0.1,stratify=Y,random_state=1)\n",
        "## random state=0 splits data differently o each eXecution of the code to prevent and split same it should be '1'\n",
        "print(Y.mean(),Y_train.mean(),Y_test.mean())"
      ],
      "metadata": {
        "id": "7F5rv0MLAIrZ"
      },
      "execution_count": null,
      "outputs": []
    },
    {
      "cell_type": "markdown",
      "source": [
        "*Logistic Regression from sklearn-- Best for binary prediction [Yes/No]*"
      ],
      "metadata": {
        "id": "x9diH00zBJ9v"
      }
    },
    {
      "cell_type": "code",
      "source": [
        "from sklearn.linear_model import LogisticRegression\n",
        "classifier=LogisticRegression()\n",
        "classifier.fit(X_train,Y_train)"
      ],
      "metadata": {
        "id": "ioCHMHoUBg64"
      },
      "execution_count": null,
      "outputs": []
    },
    {
      "cell_type": "markdown",
      "source": [
        "# **Evaluation of our model**"
      ],
      "metadata": {
        "id": "Tp_ZWYaCC1ZM"
      }
    },
    {
      "cell_type": "code",
      "source": [
        "from sklearn.metrics import accuracy_score\n",
        "training_pred=classifier.predict(X_train) ## predicts y_train \n",
        "accu_on_train_data=accuracy_score(Y_train,training_pred)## comparing with original ytrain\n",
        "print(\"Accuracy on trainig data:\",accu_on_train_data)\n",
        "## X_train will predict y_train\n",
        "## X_test will predict  y_test "
      ],
      "metadata": {
        "id": "9AfGAXGLC_OP"
      },
      "execution_count": null,
      "outputs": []
    },
    {
      "cell_type": "markdown",
      "source": [
        "# **Prediction on testing data**"
      ],
      "metadata": {
        "id": "VKRrBISRFjhQ"
      }
    },
    {
      "cell_type": "code",
      "source": [
        "testing_pred=classifier.predict(X_test) ## predicts y_train \n",
        "accu_on_test_data=accuracy_score(Y_test,testing_pred)## comparing with original ytrain\n",
        "print(\"Accuracy on testing data:\",accu_on_test_data)"
      ],
      "metadata": {
        "id": "dyGKKdqtFtLH"
      },
      "execution_count": null,
      "outputs": []
    },
    {
      "cell_type": "markdown",
      "source": [
        "### Testing a user with his/her features"
      ],
      "metadata": {
        "id": "zk7lBvKiHkQ1"
      }
    },
    {
      "cell_type": "code",
      "source": [
        "# input taken from kaggle account\n",
        "input_data=(13.54,14.36,87.46,566.3,0.09779,0.08129,0.06664,0.04781,0.1885,0.05766,0.2699,0.7886,2.058,23.56,0.008462,0.0146,0.02387,0.01315,0.0198,0.0023,15.11,19.26,99.7,711.2,0.144,0.1773,0.239,0.1288,0.2977,0.07259)\n",
        "print(input_data) ## original input\n",
        "input_data_as_numpy_array=np.asarray(input_data)\n",
        "print(input_data_as_numpy_array)## to pass to our madel it should be in numpy array\n",
        "input_data_reshaped=input_data_as_numpy_array.reshape(1,-1)\n",
        "print(input_data_reshaped)"
      ],
      "metadata": {
        "id": "Pp2Fs3EjIBHN"
      },
      "execution_count": null,
      "outputs": []
    },
    {
      "cell_type": "code",
      "source": [
        "prediction=classifier.predict(input_data_reshaped)\n",
        "print(prediction)\n",
        "if(prediction[0]==0):##prediction contains array[] first element-melignant,second-benign\n",
        "  print(\"The patient is Malignant\")\n",
        "else:\n",
        "  print(\"The patient is Benign\")"
      ],
      "metadata": {
        "id": "WRUoiOmLKxyw"
      },
      "execution_count": null,
      "outputs": []
    }
  ]
}